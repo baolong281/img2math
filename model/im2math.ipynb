{
 "cells": [
  {
   "cell_type": "code",
   "execution_count": 3,
   "metadata": {},
   "outputs": [],
   "source": [
    "import torch\n",
    "import pandas as pd\n",
    "import numpy as np\n",
    "import matplotlib.pyplot as plt\n",
    "from torchvision import transforms\n",
    "from torch.utils.data import DataLoader, Dataset\n",
    "from PIL import Image"
   ]
  },
  {
   "cell_type": "code",
   "execution_count": 71,
   "metadata": {},
   "outputs": [
    {
     "data": {
      "text/plain": [
       "device(type='mps')"
      ]
     },
     "execution_count": 71,
     "metadata": {},
     "output_type": "execute_result"
    }
   ],
   "source": [
    "device = torch.device('cpu')\n",
    "\n",
    "if torch.backends.mps.is_available():\n",
    "    device = torch.device('mps')\n",
    "elif torch.cuda.is_available():\n",
    "    device = torch.device('gpu')\n",
    "\n",
    "device"
   ]
  },
  {
   "cell_type": "code",
   "execution_count": 72,
   "metadata": {},
   "outputs": [
    {
     "data": {
      "text/html": [
       "<div>\n",
       "<style scoped>\n",
       "    .dataframe tbody tr th:only-of-type {\n",
       "        vertical-align: middle;\n",
       "    }\n",
       "\n",
       "    .dataframe tbody tr th {\n",
       "        vertical-align: top;\n",
       "    }\n",
       "\n",
       "    .dataframe thead th {\n",
       "        text-align: right;\n",
       "    }\n",
       "</style>\n",
       "<table border=\"1\" class=\"dataframe\">\n",
       "  <thead>\n",
       "    <tr style=\"text-align: right;\">\n",
       "      <th></th>\n",
       "      <th>formula</th>\n",
       "      <th>image</th>\n",
       "    </tr>\n",
       "  </thead>\n",
       "  <tbody>\n",
       "    <tr>\n",
       "      <th>0</th>\n",
       "      <td>\\widetilde \\gamma _ { \\mathrm { h o p f } } \\s...</td>\n",
       "      <td>./data/images/66667cee5b.png</td>\n",
       "    </tr>\n",
       "    <tr>\n",
       "      <th>1</th>\n",
       "      <td>( { \\cal L } _ { a } g ) _ { i j } = 0 , \\ \\ \\...</td>\n",
       "      <td>./data/images/1cbb05a562.png</td>\n",
       "    </tr>\n",
       "    <tr>\n",
       "      <th>2</th>\n",
       "      <td>S _ { s t a t } = 2 \\pi \\sqrt { N _ { 5 } ^ { ...</td>\n",
       "      <td>./data/images/ed164cc822.png</td>\n",
       "    </tr>\n",
       "    <tr>\n",
       "      <th>3</th>\n",
       "      <td>\\hat { N } _ { 3 } = \\sum \\sp f _ { j = 1 } a ...</td>\n",
       "      <td>./data/images/e265f9dc6b.png</td>\n",
       "    </tr>\n",
       "    <tr>\n",
       "      <th>4</th>\n",
       "      <td>\\, ^ { * } d \\, ^ { * } H = \\kappa \\, ^ { * } ...</td>\n",
       "      <td>./data/images/242a58bc3a.png</td>\n",
       "    </tr>\n",
       "    <tr>\n",
       "      <th>...</th>\n",
       "      <td>...</td>\n",
       "      <td>...</td>\n",
       "    </tr>\n",
       "    <tr>\n",
       "      <th>75270</th>\n",
       "      <td>\\epsilon ^ { a _ { + } } ( x ) T ^ { a _ { + }...</td>\n",
       "      <td>./data/images/17f012d3b9.png</td>\n",
       "    </tr>\n",
       "    <tr>\n",
       "      <th>75271</th>\n",
       "      <td>G = d U ^ { 1 } d V ^ { 1 } + d U ^ { 2 } d V ...</td>\n",
       "      <td>./data/images/1bcd3aca22.png</td>\n",
       "    </tr>\n",
       "    <tr>\n",
       "      <th>75272</th>\n",
       "      <td>\\psi * \\chi \\equiv V _ { ( \\infty , - 1 ) } ^ ...</td>\n",
       "      <td>./data/images/4716707d22.png</td>\n",
       "    </tr>\n",
       "    <tr>\n",
       "      <th>75273</th>\n",
       "      <td>D ^ { \\prime \\prime } = D ^ { \\prime } D + \\xi...</td>\n",
       "      <td>./data/images/49efc685a3.png</td>\n",
       "    </tr>\n",
       "    <tr>\n",
       "      <th>75274</th>\n",
       "      <td>\\Psi [ A _ { i } ^ { a } ] \\rightarrow \\Psi [ ...</td>\n",
       "      <td>./data/images/3bb015355b.png</td>\n",
       "    </tr>\n",
       "  </tbody>\n",
       "</table>\n",
       "<p>75275 rows × 2 columns</p>\n",
       "</div>"
      ],
      "text/plain": [
       "                                                 formula  \\\n",
       "0      \\widetilde \\gamma _ { \\mathrm { h o p f } } \\s...   \n",
       "1      ( { \\cal L } _ { a } g ) _ { i j } = 0 , \\ \\ \\...   \n",
       "2      S _ { s t a t } = 2 \\pi \\sqrt { N _ { 5 } ^ { ...   \n",
       "3      \\hat { N } _ { 3 } = \\sum \\sp f _ { j = 1 } a ...   \n",
       "4      \\, ^ { * } d \\, ^ { * } H = \\kappa \\, ^ { * } ...   \n",
       "...                                                  ...   \n",
       "75270  \\epsilon ^ { a _ { + } } ( x ) T ^ { a _ { + }...   \n",
       "75271  G = d U ^ { 1 } d V ^ { 1 } + d U ^ { 2 } d V ...   \n",
       "75272  \\psi * \\chi \\equiv V _ { ( \\infty , - 1 ) } ^ ...   \n",
       "75273  D ^ { \\prime \\prime } = D ^ { \\prime } D + \\xi...   \n",
       "75274  \\Psi [ A _ { i } ^ { a } ] \\rightarrow \\Psi [ ...   \n",
       "\n",
       "                              image  \n",
       "0      ./data/images/66667cee5b.png  \n",
       "1      ./data/images/1cbb05a562.png  \n",
       "2      ./data/images/ed164cc822.png  \n",
       "3      ./data/images/e265f9dc6b.png  \n",
       "4      ./data/images/242a58bc3a.png  \n",
       "...                             ...  \n",
       "75270  ./data/images/17f012d3b9.png  \n",
       "75271  ./data/images/1bcd3aca22.png  \n",
       "75272  ./data/images/4716707d22.png  \n",
       "75273  ./data/images/49efc685a3.png  \n",
       "75274  ./data/images/3bb015355b.png  \n",
       "\n",
       "[75275 rows x 2 columns]"
      ]
     },
     "execution_count": 72,
     "metadata": {},
     "output_type": "execute_result"
    }
   ],
   "source": [
    "def fix_path(path):\n",
    "    return \"./data/images/\" + path\n",
    "\n",
    "train_df = pd.read_csv('./data/im2latex_train.csv')\n",
    "val_df = pd.read_csv('./data/im2latex_validate.csv')\n",
    "test_df = pd.read_csv('./data/im2latex_test.csv')\n",
    "\n",
    "dataframes = [train_df, val_df, test_df]\n",
    "\n",
    "for df in dataframes:\n",
    "    df['image'] = df['image'].map(lambda x: fix_path(x))\n",
    "\n",
    "train_df"
   ]
  },
  {
   "cell_type": "code",
   "execution_count": 73,
   "metadata": {},
   "outputs": [],
   "source": [
    "class ImagesDataset(Dataset):\n",
    "    def __init__(self, image_paths, formulas, transform=None):\n",
    "        self.image_paths = image_paths\n",
    "        self.transform = transform\n",
    "        self.formulas = formulas\n",
    "\n",
    "    def __len__(self):\n",
    "        return len(self.image_paths)\n",
    "\n",
    "    def __getitem__(self, index):\n",
    "        image_path = self.image_paths[index]\n",
    "        image = Image.open(image_path)\n",
    "        formula = self.formulas[index]\n",
    "\n",
    "        if self.transform:\n",
    "            image = self.transform(image)\n",
    "\n",
    "        return image, formula\n",
    "\n",
    "\n",
    "transform = transforms.Compose([\n",
    "    transforms.Resize((224, 600)),  # Resize to a specific size\n",
    "    transforms.ToTensor(),           # Convert to tensor\n",
    "])"
   ]
  },
  {
   "cell_type": "code",
   "execution_count": 74,
   "metadata": {},
   "outputs": [],
   "source": [
    "# HYPERPARAMETERS\n",
    "# -------------------------------------------------\n",
    "BATCH_SIZE = 32\n",
    "# -------------------------------------------------\n",
    "\n",
    "train_dataset = ImagesDataset(train_df['image'], train_df['formula'], transform=transform)\n",
    "val_dataset = ImagesDataset(val_df['image'], val_df['formula'], transform=transform)\n",
    "test_dataset = ImagesDataset(test_df['image'], test_df['formula'], transform=transform)\n",
    "\n",
    "train_dataloader = DataLoader(train_dataset, batch_size=BATCH_SIZE, shuffle=True)\n",
    "val_dataloader = DataLoader(val_dataset, batch_size=BATCH_SIZE, shuffle=True)\n",
    "test_dataloader = DataLoader(test_dataset, batch_size=BATCH_SIZE, shuffle=True)"
   ]
  },
  {
   "cell_type": "code",
   "execution_count": 75,
   "metadata": {},
   "outputs": [
    {
     "data": {
      "text/plain": [
       "'{ \\\\cal M } = ( { \\\\bf R } ^ { 8 } ) ^ { N } / { \\\\cal S } _ { N } \\\\ .'"
      ]
     },
     "execution_count": 75,
     "metadata": {},
     "output_type": "execute_result"
    },
    {
     "data": {
      "image/png": "[encoded data removed]",
      "text/plain": [
       "<Figure size 432x288 with 1 Axes>"
      ]
     },
     "metadata": {
      "needs_background": "light"
     },
     "output_type": "display_data"
    }
   ],
   "source": [
    "im, label = next(iter(train_dataloader))\n",
    "\n",
    "plt.imshow(im[0][0], cmap='gray')\n",
    "label[0]"
   ]
  },
  {
   "cell_type": "code",
   "execution_count": null,
   "metadata": {},
   "outputs": [],
   "source": []
  }
 ],
 "metadata": {
  "kernelspec": {
   "display_name": "pytorch",
   "language": "python",
   "name": "pytorch"
  },
  "language_info": {
   "codemirror_mode": {
    "name": "ipython",
    "version": 3
   },
   "file_extension": ".py",
   "mimetype": "text/x-python",
   "name": "python",
   "nbconvert_exporter": "python",
   "pygments_lexer": "ipython3",
   "version": "3.11.0"
  },
  "orig_nbformat": 4
 },
 "nbformat": 4,
 "nbformat_minor": 2
}

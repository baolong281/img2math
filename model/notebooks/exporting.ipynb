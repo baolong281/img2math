{
 "cells": [
  {
   "cell_type": "code",
   "execution_count": 1,
   "id": "00156b7a-8508-4b8a-8f31-0c837bbbfb8e",
   "metadata": {},
   "outputs": [
    {
     "name": "stderr",
     "output_type": "stream",
     "text": [
      "/Users/dylanh/miniconda3/envs/pytorch/lib/python3.11/site-packages/tqdm/auto.py:21: TqdmWarning: IProgress not found. Please update jupyter and ipywidgets. See https://ipywidgets.readthedocs.io/en/stable/user_install.html\n",
      "  from .autonotebook import tqdm as notebook_tqdm\n"
     ]
    }
   ],
   "source": [
    "import sys\n",
    "sys.path.append(\"../\")\n",
    "import torch\n",
    "import torch.nn as nn\n",
    "import torch.nn.functional as F\n",
    "import pandas as pd\n",
    "import numpy as np\n",
    "import matplotlib.pyplot as plt\n",
    "from torchvision import transforms\n",
    "from torch.utils.data import DataLoader, Dataset\n",
    "from PIL import Image\n",
    "from tqdm.auto import tqdm\n",
    "from lightning.pytorch.loggers import WandbLogger\n",
    "from lightning.pytorch.callbacks import ModelCheckpoint\n",
    "import torchvision\n",
    "from model.vit import ViT\n",
    "import lightning as L\n",
    "import wandb\n",
    "import os\n",
    "\n",
    "BATCH_SIZE = 64\n",
    "\n",
    "img_dims = [28, 28]\n",
    "os.chdir('./notebooks')"
   ]
  },
  {
   "cell_type": "code",
   "execution_count": 2,
   "id": "777d3960-7592-4df2-b8ef-78bbbe8a3411",
   "metadata": {},
   "outputs": [],
   "source": [
    "\n",
    "model = ViT.load_from_checkpoint('./mnisttest/n1megpmh/checkpoints/epoch=19-step=9680.ckpt')"
   ]
  },
  {
   "cell_type": "code",
   "execution_count": 5,
   "id": "b0c32ea6-4278-44cc-ab8b-a058c816adc8",
   "metadata": {},
   "outputs": [
    {
     "name": "stderr",
     "output_type": "stream",
     "text": [
      "/Users/dylanh/Projects/img2math/model/model/vit.py:211: TracerWarning: Converting a tensor to a Python boolean might cause the trace to be incorrect. We can't record the data flow of Python values, so this value will be treated as a constant in the future. This means that the trace might not generalize to other inputs!\n",
      "  assert C == self.n_embd, \"input size does not equal n_embd\"\n",
      "/Users/dylanh/Projects/img2math/model/model/vit.py:216: TracerWarning: Iterating over a tensor might cause the trace to be incorrect. Passing a tensor of different shape won't change the number of iterations executed (and might lead to errors or silently give incorrect results).\n",
      "  k, q, v = kqv  # (B, n_heads, T, head_dim)\n"
     ]
    },
    {
     "name": "stdout",
     "output_type": "stream",
     "text": [
      "================ Diagnostic Run torch.onnx.export version 2.0.1 ================\n",
      "verbose: False, log level: Level.ERROR\n",
      "======================= 0 NONE 0 NOTE 0 WARNING 0 ERROR ========================\n",
      "\n"
     ]
    }
   ],
   "source": [
    "input = torch.zeros(1, 1, 28, 28)\n",
    "model.to_onnx('mnist.onnx', input, export_params=True)"
   ]
  },
  {
   "cell_type": "code",
   "execution_count": null,
   "id": "edecf18b-a8e1-4650-9572-483deea165d2",
   "metadata": {},
   "outputs": [],
   "source": [
    "model = torch.onnx.load()"
   ]
  }
 ],
 "metadata": {
  "kernelspec": {
   "display_name": "pytorch",
   "language": "python",
   "name": "pytorch"
  },
  "language_info": {
   "codemirror_mode": {
    "name": "ipython",
    "version": 3
   },
   "file_extension": ".py",
   "mimetype": "text/x-python",
   "name": "python",
   "nbconvert_exporter": "python",
   "pygments_lexer": "ipython3",
   "version": "3.11.0"
  }
 },
 "nbformat": 4,
 "nbformat_minor": 5
}

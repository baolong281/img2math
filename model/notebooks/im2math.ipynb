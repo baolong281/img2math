{
 "cells": [
  {
   "cell_type": "code",
   "execution_count": 1,
   "metadata": {},
   "outputs": [
    {
     "name": "stderr",
     "output_type": "stream",
     "text": [
      "/Users/dylanh/miniconda3/envs/pytorch/lib/python3.11/site-packages/tqdm/auto.py:21: TqdmWarning: IProgress not found. Please update jupyter and ipywidgets. See https://ipywidgets.readthedocs.io/en/stable/user_install.html\n",
      "  from .autonotebook import tqdm as notebook_tqdm\n"
     ]
    }
   ],
   "source": [
    "from model.vit import ViT\n",
    "from data.dataset import Im2LatexDataset\n",
    "from transformers import PreTrainedTokenizerFast\n",
    "from tqdm.auto import tqdm\n",
    "import warnings\n",
    "from utils.inkml2img import convert_dir\n",
    "from PIL import Image\n",
    "from torch.utils.data import DataLoader, Dataset\n",
    "from torchvision import transforms\n",
    "import matplotlib.pyplot as plt\n",
    "import numpy as np\n",
    "import pandas as pd\n",
    "import torch.nn.functional as F\n",
    "import torch.nn as nn\n",
    "import torch\n",
    "import sys\n",
    "import os\n",
    "\n",
    "sys.path.append(\"../\")\n",
    "\n",
    "warnings.filterwarnings(\"ignore\")"
   ]
  },
  {
   "cell_type": "code",
   "execution_count": 2,
   "metadata": {},
   "outputs": [
    {
     "data": {
      "text/plain": [
       "torch.Size([32, 1, 224, 640])"
      ]
     },
     "execution_count": 2,
     "metadata": {},
     "output_type": "execute_result"
    }
   ],
   "source": [
    "img_dims = [224, 640]\n",
    "data = Im2LatexDataset(path_to_data=\"../data/\",\n",
    "                       tokenizer=\"../data/tokenizer.json\", img_dims=img_dims)\n",
    "imgs, labels = next(iter(data.train))\n",
    "imgs.shape"
   ]
  },
  {
   "cell_type": "code",
   "execution_count": 3,
   "metadata": {},
   "outputs": [
    {
     "data": {
      "text/plain": [
       "torch.Size([32, 561, 512])"
      ]
     },
     "execution_count": 3,
     "metadata": {},
     "output_type": "execute_result"
    }
   ],
   "source": [
    "\n",
    "model = ViT(img_dims, 16, n_embd=512)\n",
    "model(imgs).shape"
   ]
  },
  {
   "attachments": {},
   "cell_type": "markdown",
   "metadata": {},
   "source": []
  },
  {
   "cell_type": "code",
   "execution_count": 4,
   "metadata": {},
   "outputs": [
    {
     "data": {
      "text/plain": [
       "False"
      ]
     },
     "execution_count": 4,
     "metadata": {},
     "output_type": "execute_result"
    }
   ],
   "source": [
    "device = torch.device(\"cpu\")\n",
    "\n",
    "if torch.backends.mps.is_available():\n",
    "    device = torch.device(\"mps\")\n",
    "elif torch.cuda.is_available():\n",
    "    device = torch.device(\"gpu\")\n",
    "\n",
    "device"
   ]
  },
  {
   "cell_type": "code",
   "execution_count": 9,
   "metadata": {},
   "outputs": [
    {
     "data": {
      "text/html": [
       "<div>\n",
       "<style scoped>\n",
       "    .dataframe tbody tr th:only-of-type {\n",
       "        vertical-align: middle;\n",
       "    }\n",
       "\n",
       "    .dataframe tbody tr th {\n",
       "        vertical-align: top;\n",
       "    }\n",
       "\n",
       "    .dataframe thead th {\n",
       "        text-align: right;\n",
       "    }\n",
       "</style>\n",
       "<table border=\"1\" class=\"dataframe\">\n",
       "  <thead>\n",
       "    <tr style=\"text-align: right;\">\n",
       "      <th></th>\n",
       "      <th>formula</th>\n",
       "      <th>image</th>\n",
       "    </tr>\n",
       "  </thead>\n",
       "  <tbody>\n",
       "    <tr>\n",
       "      <th>0</th>\n",
       "      <td>$r_2 - r_1 = R$</td>\n",
       "      <td>../data/handwritten/test/126_em_481.png</td>\n",
       "    </tr>\n",
       "    <tr>\n",
       "      <th>1</th>\n",
       "      <td>$G_u = 2 M_{u v} M_v$</td>\n",
       "      <td>../data/handwritten/test/125_em_428.png</td>\n",
       "    </tr>\n",
       "    <tr>\n",
       "      <th>2</th>\n",
       "      <td>$p_A = u + c [L + \\frac{1}{3}(a-b)]$</td>\n",
       "      <td>../data/handwritten/test/120_em_293.png</td>\n",
       "    </tr>\n",
       "    <tr>\n",
       "      <th>3</th>\n",
       "      <td>$M N = N M$</td>\n",
       "      <td>../data/handwritten/test/123_em_362.png</td>\n",
       "    </tr>\n",
       "    <tr>\n",
       "      <th>4</th>\n",
       "      <td>$\\mu_n = E[X^n]$</td>\n",
       "      <td>../data/handwritten/test/105_em_71.png</td>\n",
       "    </tr>\n",
       "    <tr>\n",
       "      <th>...</th>\n",
       "      <td>...</td>\n",
       "      <td>...</td>\n",
       "    </tr>\n",
       "    <tr>\n",
       "      <th>666</th>\n",
       "      <td>$S^{4m+1}$</td>\n",
       "      <td>../data/handwritten/test/105_em_80.png</td>\n",
       "    </tr>\n",
       "    <tr>\n",
       "      <th>667</th>\n",
       "      <td>$ \\phi ^ {3} + 3 \\phi ^ {2} + 18 \\phi + 5 + 12 $</td>\n",
       "      <td>../data/handwritten/test/rit_42190_2.png</td>\n",
       "    </tr>\n",
       "    <tr>\n",
       "      <th>668</th>\n",
       "      <td>$a_2 = \\frac{P[x_0, x_1] - P[x_1, x_2]}{x0 - x...</td>\n",
       "      <td>../data/handwritten/test/104_em_56.png</td>\n",
       "    </tr>\n",
       "    <tr>\n",
       "      <th>669</th>\n",
       "      <td>$\\frac{P}{640}$</td>\n",
       "      <td>../data/handwritten/test/121_em_318.png</td>\n",
       "    </tr>\n",
       "    <tr>\n",
       "      <th>670</th>\n",
       "      <td>$ \\int _ {2} ^ {5} x ^ {2} d x $</td>\n",
       "      <td>../data/handwritten/test/rit_42180_2.png</td>\n",
       "    </tr>\n",
       "  </tbody>\n",
       "</table>\n",
       "<p>671 rows × 2 columns</p>\n",
       "</div>"
      ],
      "text/plain": [
       "                                               formula  \\\n",
       "0                                      $r_2 - r_1 = R$   \n",
       "1                                $G_u = 2 M_{u v} M_v$   \n",
       "2                 $p_A = u + c [L + \\frac{1}{3}(a-b)]$   \n",
       "3                                          $M N = N M$   \n",
       "4                                     $\\mu_n = E[X^n]$   \n",
       "..                                                 ...   \n",
       "666                                         $S^{4m+1}$   \n",
       "667   $ \\phi ^ {3} + 3 \\phi ^ {2} + 18 \\phi + 5 + 12 $   \n",
       "668  $a_2 = \\frac{P[x_0, x_1] - P[x_1, x_2]}{x0 - x...   \n",
       "669                                    $\\frac{P}{640}$   \n",
       "670                   $ \\int _ {2} ^ {5} x ^ {2} d x $   \n",
       "\n",
       "                                        image  \n",
       "0     ../data/handwritten/test/126_em_481.png  \n",
       "1     ../data/handwritten/test/125_em_428.png  \n",
       "2     ../data/handwritten/test/120_em_293.png  \n",
       "3     ../data/handwritten/test/123_em_362.png  \n",
       "4      ../data/handwritten/test/105_em_71.png  \n",
       "..                                        ...  \n",
       "666    ../data/handwritten/test/105_em_80.png  \n",
       "667  ../data/handwritten/test/rit_42190_2.png  \n",
       "668    ../data/handwritten/test/104_em_56.png  \n",
       "669   ../data/handwritten/test/121_em_318.png  \n",
       "670  ../data/handwritten/test/rit_42180_2.png  \n",
       "\n",
       "[671 rows x 2 columns]"
      ]
     },
     "execution_count": 9,
     "metadata": {},
     "output_type": "execute_result"
    }
   ],
   "source": [
    "PATH_TO_DATA = \"../data/\"\n",
    "PATH_TO_HANDWRITTEN = PATH_TO_DATA + \"handwritten/\"\n",
    "# train_handwritten_df = convert_dir(PATH_TO_HANDWRITTEN + 'train', PATH_TO_HANDWRITTEN + \"train\")\n",
    "# train_handwritten_df.to_csv(PATH_TO_DATA + 'train_handwritten.csv', index=False)\n",
    "# val_handwritten_df = convert_dir(PATH_TO_HANDWRITTEN + 'test', PATH_TO_HANDWRITTEN + \"test\")\n",
    "# val_handwritten_df.to_csv(PATH_TO_DATA + 'val_handwritten.csv', index=False)\n",
    "\n",
    "train_handwritten_df = pd.read_csv(PATH_TO_DATA + \"train_handwritten.csv\")\n",
    "val_handwritten_df = pd.read_csv(PATH_TO_DATA + \"val_handwritten.csv\")\n",
    "val_handwritten_df"
   ]
  },
  {
   "cell_type": "code",
   "execution_count": 10,
   "metadata": {},
   "outputs": [
    {
     "name": "stdout",
     "output_type": "stream",
     "text": [
      "train len before 75275\n",
      "train length after 84111\n"
     ]
    },
    {
     "data": {
      "text/html": [
       "<div>\n",
       "<style scoped>\n",
       "    .dataframe tbody tr th:only-of-type {\n",
       "        vertical-align: middle;\n",
       "    }\n",
       "\n",
       "    .dataframe tbody tr th {\n",
       "        vertical-align: top;\n",
       "    }\n",
       "\n",
       "    .dataframe thead th {\n",
       "        text-align: right;\n",
       "    }\n",
       "</style>\n",
       "<table border=\"1\" class=\"dataframe\">\n",
       "  <thead>\n",
       "    <tr style=\"text-align: right;\">\n",
       "      <th></th>\n",
       "      <th>formula</th>\n",
       "      <th>image</th>\n",
       "    </tr>\n",
       "  </thead>\n",
       "  <tbody>\n",
       "    <tr>\n",
       "      <th>0</th>\n",
       "      <td>\\widetilde \\gamma _ { \\mathrm { h o p f } } \\s...</td>\n",
       "      <td>../data/images/66667cee5b.png</td>\n",
       "    </tr>\n",
       "    <tr>\n",
       "      <th>1</th>\n",
       "      <td>( { \\cal L } _ { a } g ) _ { i j } = 0 , \\ \\ \\...</td>\n",
       "      <td>../data/images/1cbb05a562.png</td>\n",
       "    </tr>\n",
       "    <tr>\n",
       "      <th>2</th>\n",
       "      <td>S _ { s t a t } = 2 \\pi \\sqrt { N _ { 5 } ^ { ...</td>\n",
       "      <td>../data/images/ed164cc822.png</td>\n",
       "    </tr>\n",
       "    <tr>\n",
       "      <th>3</th>\n",
       "      <td>\\hat { N } _ { 3 } = \\sum \\sp f _ { j = 1 } a ...</td>\n",
       "      <td>../data/images/e265f9dc6b.png</td>\n",
       "    </tr>\n",
       "    <tr>\n",
       "      <th>4</th>\n",
       "      <td>\\, ^ { * } d \\, ^ { * } H = \\kappa \\, ^ { * } ...</td>\n",
       "      <td>../data/images/242a58bc3a.png</td>\n",
       "    </tr>\n",
       "    <tr>\n",
       "      <th>...</th>\n",
       "      <td>...</td>\n",
       "      <td>...</td>\n",
       "    </tr>\n",
       "    <tr>\n",
       "      <th>8831</th>\n",
       "      <td>\\frac { x_1 } { \\frac { x_2 } { \\frac { x_3 }...</td>\n",
       "      <td>../data/handwritten/train/200923-1556-78.png</td>\n",
       "    </tr>\n",
       "    <tr>\n",
       "      <th>8832</th>\n",
       "      <td>$y = \\frac{x\\prime\\sin\\theta+y\\prime\\sin(w\\pri...</td>\n",
       "      <td>../data/handwritten/train/92_edwin.png</td>\n",
       "    </tr>\n",
       "    <tr>\n",
       "      <th>8833</th>\n",
       "      <td>$(103 / (18 + 134)) + 109 \\leq 110$</td>\n",
       "      <td>../data/handwritten/train/formulaire014-equati...</td>\n",
       "    </tr>\n",
       "    <tr>\n",
       "      <th>8834</th>\n",
       "      <td>\\sin^{2} \\theta + \\cos^{2} \\theta = 1</td>\n",
       "      <td>../data/handwritten/train/TrainData1_0_sub_9.png</td>\n",
       "    </tr>\n",
       "    <tr>\n",
       "      <th>8835</th>\n",
       "      <td>$v ^{(0)}$</td>\n",
       "      <td>../data/handwritten/train/formulaire028-equati...</td>\n",
       "    </tr>\n",
       "  </tbody>\n",
       "</table>\n",
       "<p>84111 rows × 2 columns</p>\n",
       "</div>"
      ],
      "text/plain": [
       "                                                formula  \\\n",
       "0     \\widetilde \\gamma _ { \\mathrm { h o p f } } \\s...   \n",
       "1     ( { \\cal L } _ { a } g ) _ { i j } = 0 , \\ \\ \\...   \n",
       "2     S _ { s t a t } = 2 \\pi \\sqrt { N _ { 5 } ^ { ...   \n",
       "3     \\hat { N } _ { 3 } = \\sum \\sp f _ { j = 1 } a ...   \n",
       "4     \\, ^ { * } d \\, ^ { * } H = \\kappa \\, ^ { * } ...   \n",
       "...                                                 ...   \n",
       "8831   \\frac { x_1 } { \\frac { x_2 } { \\frac { x_3 }...   \n",
       "8832  $y = \\frac{x\\prime\\sin\\theta+y\\prime\\sin(w\\pri...   \n",
       "8833                $(103 / (18 + 134)) + 109 \\leq 110$   \n",
       "8834              \\sin^{2} \\theta + \\cos^{2} \\theta = 1   \n",
       "8835                                         $v ^{(0)}$   \n",
       "\n",
       "                                                  image  \n",
       "0                         ../data/images/66667cee5b.png  \n",
       "1                         ../data/images/1cbb05a562.png  \n",
       "2                         ../data/images/ed164cc822.png  \n",
       "3                         ../data/images/e265f9dc6b.png  \n",
       "4                         ../data/images/242a58bc3a.png  \n",
       "...                                                 ...  \n",
       "8831       ../data/handwritten/train/200923-1556-78.png  \n",
       "8832             ../data/handwritten/train/92_edwin.png  \n",
       "8833  ../data/handwritten/train/formulaire014-equati...  \n",
       "8834   ../data/handwritten/train/TrainData1_0_sub_9.png  \n",
       "8835  ../data/handwritten/train/formulaire028-equati...  \n",
       "\n",
       "[84111 rows x 2 columns]"
      ]
     },
     "execution_count": 10,
     "metadata": {},
     "output_type": "execute_result"
    }
   ],
   "source": [
    "def fix_path(path):\n",
    "    return PATH_TO_DATA + \"images/\" + path\n",
    "\n",
    "\n",
    "train_df = pd.read_csv(PATH_TO_DATA + \"im2latex_train.csv\")\n",
    "val_df = pd.read_csv(PATH_TO_DATA + \"im2latex_validate.csv\")\n",
    "test_df = pd.read_csv(PATH_TO_DATA + \"im2latex_test.csv\")\n",
    "\n",
    "\n",
    "dataframes = [train_df, val_df, test_df]\n",
    "\n",
    "for df in dataframes:\n",
    "    df[\"image\"] = df[\"image\"].map(lambda x: fix_path(x))\n",
    "\n",
    "print(f\"train len before {len(train_df)}\")\n",
    "\n",
    "train_df = pd.concat([train_df, train_handwritten_df])\n",
    "val_df = pd.concat([val_df, val_handwritten_df])\n",
    "\n",
    "print(f\"train length after {len(train_df)}\")\n",
    "\n",
    "train_df"
   ]
  },
  {
   "cell_type": "code",
   "execution_count": 11,
   "metadata": {},
   "outputs": [],
   "source": [
    "def get_train_equations():\n",
    "    train_equations = train_df[\"formula\"]\n",
    "    with open(\"../data/train_equations.txt\", \"w\") as f:\n",
    "        for value in train_equations:\n",
    "            f.write(str(value) + \"\\n\")\n",
    "\n",
    "\n",
    "# get_train_equations()"
   ]
  },
  {
   "cell_type": "code",
   "execution_count": 12,
   "metadata": {},
   "outputs": [],
   "source": [
    "import os\n",
    "\n",
    "\n",
    "def generate_tokenizer(equations, output, vocab_size):\n",
    "    from tokenizers import Tokenizer, pre_tokenizers\n",
    "    from tokenizers.models import BPE\n",
    "    from tokenizers.trainers import BpeTrainer\n",
    "\n",
    "    tokenizer = Tokenizer(BPE())\n",
    "    tokenizer.pre_tokenizer = pre_tokenizers.ByteLevel(add_prefix_space=False)\n",
    "    trainer = BpeTrainer(\n",
    "        special_tokens=[\"[PAD]\", \"[BOS]\", \"[EOS]\"],\n",
    "        vocab_size=vocab_size,\n",
    "        show_progress=True,\n",
    "    )\n",
    "    tokenizer.train([equations], trainer)\n",
    "    tokenizer.save(path=output, pretty=False)\n",
    "\n",
    "\n",
    "# generate_tokenizer('../data/train_equations.txt' ,'../data/tokenizer.json', 8000)\n",
    "tokenizer = PreTrainedTokenizerFast(tokenizer_file=\"../data/tokenizer.json\")"
   ]
  },
  {
   "cell_type": "code",
   "execution_count": 13,
   "metadata": {},
   "outputs": [
    {
     "data": {
      "text/plain": [
       "{'input_ids': [[451, 79, 66, 83]], 'token_type_ids': [[0, 0, 0, 0]], 'attention_mask': [[1, 1, 1, 1]]}"
      ]
     },
     "execution_count": 13,
     "metadata": {},
     "output_type": "execute_result"
    }
   ],
   "source": [
    "tokenizer([\"boobs\"])"
   ]
  },
  {
   "cell_type": "code",
   "execution_count": 26,
   "metadata": {},
   "outputs": [],
   "source": [
    "class ImagesDataset(Dataset):\n",
    "    def __init__(self, image_paths, formulas, transform=None):\n",
    "        self.image_paths = image_paths\n",
    "        self.transform = transform\n",
    "        self.formulas = formulas\n",
    "\n",
    "    def __len__(self):\n",
    "        return len(self.image_paths)\n",
    "\n",
    "    def __getitem__(self, index):\n",
    "        image_path = self.image_paths.iloc[index]\n",
    "        image = Image.open(image_path)\n",
    "        formula = self.formulas.iloc[index]\n",
    "\n",
    "        if self.transform:\n",
    "            image = self.transform(image)\n",
    "\n",
    "        return image, formula\n",
    "\n",
    "\n",
    "transform = transforms.Compose(\n",
    "    [\n",
    "        transforms.Resize((224, 600)),  # Resize to a specific size\n",
    "        transforms.Grayscale(num_output_channels=1),\n",
    "        transforms.ToTensor(),  # Convert to tensor\n",
    "    ]\n",
    ")"
   ]
  },
  {
   "cell_type": "code",
   "execution_count": 27,
   "metadata": {},
   "outputs": [],
   "source": [
    "# HYPERPARAMETERS\n",
    "# -------------------------------------------------\n",
    "BATCH_SIZE = 32\n",
    "# -------------------------------------------------\n",
    "\n",
    "train_dataset = ImagesDataset(\n",
    "    train_df[\"image\"], train_df[\"formula\"], transform=transform\n",
    ")\n",
    "val_dataset = ImagesDataset(\n",
    "    val_df[\"image\"], val_df[\"formula\"], transform=transform)\n",
    "test_dataset = ImagesDataset(\n",
    "    test_df[\"image\"], test_df[\"formula\"], transform=transform)\n",
    "\n",
    "train_dataloader = DataLoader(\n",
    "    train_dataset, batch_size=BATCH_SIZE, shuffle=True)\n",
    "val_dataloader = DataLoader(val_dataset, batch_size=BATCH_SIZE, shuffle=False)\n",
    "test_dataloader = DataLoader(\n",
    "    test_dataset, batch_size=BATCH_SIZE, shuffle=False)"
   ]
  },
  {
   "cell_type": "code",
   "execution_count": 28,
   "metadata": {},
   "outputs": [
    {
     "data": {
      "text/plain": [
       "'{ \\\\cal L } _ { \\\\mathrm { Z l o o p } } ( \\\\Phi , g , \\\\theta , W _ { \\\\mu } , B _ { \\\\mu } ) \\\\equiv { \\\\cal L } _ { \\\\mathrm { U ( 1 ) } } ( \\\\rho , \\\\frac { g } { 2 \\\\operatorname { c o s } \\\\theta _ { W } } , \\\\frac { \\\\theta } { 2 } , Z _ { \\\\mu } ) .'"
      ]
     },
     "execution_count": 28,
     "metadata": {},
     "output_type": "execute_result"
    },
    {
     "data": {
      "image/png": "[encoded data removed]",
      "text/plain": [
       "<Figure size 432x288 with 1 Axes>"
      ]
     },
     "metadata": {
      "needs_background": "light"
     },
     "output_type": "display_data"
    }
   ],
   "source": [
    "im, label = next(iter(train_dataloader))\n",
    "\n",
    "plt.imshow(im[0][0], cmap=\"gray\")\n",
    "label[0]"
   ]
  },
  {
   "cell_type": "code",
   "execution_count": 124,
   "metadata": {},
   "outputs": [
    {
     "name": "stdout",
     "output_type": "stream",
     "text": [
      "torch.Size([1, 8, 16, 16]) torch.Size([1, 8, 16, 64])\n",
      "torch.Size([1, 8, 16, 64])\n"
     ]
    },
    {
     "data": {
      "text/plain": [
       "tensor([[[-0.9330, -2.6161,  0.8858,  ..., -0.1316,  0.4870,  0.0277],\n",
       "         [-0.8579, -2.5277,  0.6462,  ...,  0.2611,  0.3984, -0.5303],\n",
       "         [-0.7481, -2.6428,  0.7518,  ...,  0.2218,  0.3767, -0.0528],\n",
       "         ...,\n",
       "         [-0.6207, -2.6100,  0.2552,  ...,  0.2584,  0.2760, -0.5433],\n",
       "         [-0.6320, -2.6775,  0.7743,  ..., -0.0517,  0.5550,  0.1714],\n",
       "         [-0.4915, -2.5473,  0.6142,  ...,  0.2151,  0.7661, -0.4765]]],\n",
       "       grad_fn=<AddBackward0>)"
      ]
     },
     "execution_count": 124,
     "metadata": {},
     "output_type": "execute_result"
    }
   ],
   "source": [
    "# transformer block with skip connections and layernorm\n",
    "class TransformerBlock(nn.Module):\n",
    "    def __init__(self, n_embd, num_heads, dropout=0.20):\n",
    "        super().__init__()\n",
    "        self.embed_dim = n_embd\n",
    "        self.num_heads = num_heads\n",
    "        self.dropout = dropout\n",
    "\n",
    "        self.ln_1 = torch.nn.LayerNorm(n_embd)\n",
    "        self.attention = SelfAttention(n_embd, num_heads, dropout)\n",
    "        self.ln_2 = torch.nn.LayerNorm(n_embd)\n",
    "        self.head = nn.Linear(n_embd, n_embd, bias=False)\n",
    "\n",
    "    def forward(self, x):\n",
    "        x = x + self.attention(self.ln_1(x))\n",
    "        x = x + self.head(self.ln_2(x))\n",
    "        return x\n",
    "\n",
    "\n",
    "class PatchEmbeddings(nn.Module):\n",
    "    def __init__(self, img_size, patch_size, channels=1, embed_dim=512):\n",
    "        \"\"\"\n",
    "        img size: image shape\n",
    "        \"\"\"\n",
    "        super().__init__()\n",
    "        h, w = img_size\n",
    "        assert (\n",
    "            w % patch_size == 0 and h % patch_size == 0\n",
    "        ), \"image not divisable by patch size\"\n",
    "        self.patch_size = patch_size\n",
    "        self.n_patches = (h // patch_size) * (w // patch_size)\n",
    "\n",
    "        self.projection = nn.Conv2d(\n",
    "            channels,\n",
    "            embed_dim,\n",
    "            kernel_size=patch_size,\n",
    "            stride=patch_size,\n",
    "        )\n",
    "\n",
    "    def forward(self, x):\n",
    "        \"\"\"\n",
    "        x: batch of images (B, H, W)\n",
    "        return: (B, num_patches, num_embeddings)\n",
    "        \"\"\"\n",
    "        x = self.projection(x)  # (B, n_embd, n_patches / 2, n_patches / 2)\n",
    "        x = x.flatten(-2)  # (B, n_embd, n_patches)\n",
    "        x = x.transpose(-2, -1)  # (B, n_patches, n_embd)\n",
    "        return x\n",
    "\n",
    "\n",
    "class SelfAttention(nn.Module):\n",
    "    def __init__(\n",
    "        self, n_embd, n_heads=8, bias=False, attn_dropout=0.20, proj_dropout=0.20\n",
    "    ):\n",
    "        super().__init__()\n",
    "        assert n_embd % n_heads == 0, \"n_embd not divisible by num heads\"\n",
    "        self.n_heads = n_heads\n",
    "        self.n_embd = n_embd\n",
    "        self.head_dim = n_embd // n_heads\n",
    "        self.dk = self.head_dim**-0.5  # sqrt dk for scaling\n",
    "\n",
    "        self.kqv = nn.Linear(n_embd, n_embd * 3, bias=bias)\n",
    "        self.projection = nn.Linear(n_embd, n_embd, bias=bias)\n",
    "        self.attn_dropout = nn.Dropout(attn_dropout)\n",
    "        self.proj_dropout = nn.Dropout(proj_dropout)\n",
    "\n",
    "    def forward(self, x):\n",
    "        \"\"\"\n",
    "        x: (B, T, n_embd)\n",
    "        returns: (B, T, n_embd)\n",
    "        \"\"\"\n",
    "\n",
    "        B, T, C, = x.shape  # batch size, num tokens, n_embd\n",
    "        assert C == self.n_embd, \"input size does not equal n_embd\"\n",
    "\n",
    "        kqv = self.kqv(x)  # (B, T, n_embd*3)\n",
    "        kqv = kqv.reshape(B, T, 3, self.n_heads, self.head_dim)\n",
    "        kqv = kqv.permute(2, 0, 3, 1, 4)  # (3, B, n_heads, T, head_dim)\n",
    "        k, q, v = kqv  # (B, n_heads, T, head_dim)\n",
    "\n",
    "        attention = (\n",
    "            q @ k.transpose(-1, -2)\n",
    "        ) * self.dk  # (B, n_heads, T, head_dim) @ (B, n_heads, head_dim, T) -> (B, n_heads, T, T)\n",
    "        attention = attention.softmax(dim=-1)  # (B, n_heads, T, T)\n",
    "        attention = self.attn_dropout(attention)\n",
    "        aggregated_attention = (\n",
    "            attention @ v\n",
    "        )  # (B, n_heads, T, T) @ (B, n_heads, T, head_dim) -> (B, n_heads, T, head_dim)\n",
    "        print(aggregated_attention.shape)\n",
    "        x = aggregated_attention.transpose(1, 2)  # (B, T, n_heads, C)\n",
    "        x = x.flatten(2)  # (B, T, C)\n",
    "        x = self.projection(x)  # (B, T, C)\n",
    "        x = self.proj_dropout(x)\n",
    "        return x\n",
    "\n",
    "\n",
    "x = torch.ones(1, 1, 64, 64)\n",
    "patch = PatchEmbeddings([64, 64], 16)\n",
    "# attention = SelfAttention(512)\n",
    "x = patch(x)\n",
    "# att = attention(x)\n",
    "block = TransformerBlock(512, 8)\n",
    "block(x)"
   ]
  },
  {
   "cell_type": "code",
   "execution_count": null,
   "metadata": {},
   "outputs": [],
   "source": []
  }
 ],
 "metadata": {
  "kernelspec": {
   "display_name": "pytorch",
   "language": "python",
   "name": "pytorch"
  },
  "language_info": {
   "codemirror_mode": {
    "name": "ipython",
    "version": 3
   },
   "file_extension": ".py",
   "mimetype": "text/x-python",
   "name": "python",
   "nbconvert_exporter": "python",
   "pygments_lexer": "ipython3",
   "version": "3.11.0"
  },
  "orig_nbformat": 4
 },
 "nbformat": 4,
 "nbformat_minor": 2
}

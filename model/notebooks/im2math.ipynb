{
 "cells": [
  {
   "cell_type": "code",
   "execution_count": 12,
   "metadata": {},
   "outputs": [],
   "source": [
    "import sys\n",
    "sys.path.append(\"../\")\n",
    "import torch\n",
    "import pandas as pd\n",
    "import numpy as np\n",
    "import matplotlib.pyplot as plt\n",
    "from torchvision import transforms\n",
    "from torch.utils.data import DataLoader, Dataset\n",
    "from PIL import Image\n",
    "from utils.inkml2img import convert_dir\n",
    "import warnings\n",
    "import tqdm\n",
    "\n",
    "warnings.filterwarnings('ignore')"
   ]
  },
  {
   "cell_type": "code",
   "execution_count": 13,
   "metadata": {},
   "outputs": [
    {
     "data": {
      "text/plain": [
       "device(type='mps')"
      ]
     },
     "execution_count": 13,
     "metadata": {},
     "output_type": "execute_result"
    }
   ],
   "source": [
    "device = torch.device('cpu')\n",
    "\n",
    "if torch.backends.mps.is_available():\n",
    "    device = torch.device('mps')\n",
    "elif torch.cuda.is_available():\n",
    "    device = torch.device('gpu')\n",
    "\n",
    "device"
   ]
  },
  {
   "cell_type": "code",
   "execution_count": 14,
   "metadata": {},
   "outputs": [
    {
     "data": {
      "text/html": [
       "<div>\n",
       "<style scoped>\n",
       "    .dataframe tbody tr th:only-of-type {\n",
       "        vertical-align: middle;\n",
       "    }\n",
       "\n",
       "    .dataframe tbody tr th {\n",
       "        vertical-align: top;\n",
       "    }\n",
       "\n",
       "    .dataframe thead th {\n",
       "        text-align: right;\n",
       "    }\n",
       "</style>\n",
       "<table border=\"1\" class=\"dataframe\">\n",
       "  <thead>\n",
       "    <tr style=\"text-align: right;\">\n",
       "      <th></th>\n",
       "      <th>formula</th>\n",
       "      <th>image</th>\n",
       "    </tr>\n",
       "  </thead>\n",
       "  <tbody>\n",
       "    <tr>\n",
       "      <th>0</th>\n",
       "      <td>$r_2 - r_1 = R$</td>\n",
       "      <td>../data/handwritten/test/126_em_481.png</td>\n",
       "    </tr>\n",
       "    <tr>\n",
       "      <th>1</th>\n",
       "      <td>$G_u = 2 M_{u v} M_v$</td>\n",
       "      <td>../data/handwritten/test/125_em_428.png</td>\n",
       "    </tr>\n",
       "    <tr>\n",
       "      <th>2</th>\n",
       "      <td>$p_A = u + c [L + \\frac{1}{3}(a-b)]$</td>\n",
       "      <td>../data/handwritten/test/120_em_293.png</td>\n",
       "    </tr>\n",
       "    <tr>\n",
       "      <th>3</th>\n",
       "      <td>$M N = N M$</td>\n",
       "      <td>../data/handwritten/test/123_em_362.png</td>\n",
       "    </tr>\n",
       "    <tr>\n",
       "      <th>4</th>\n",
       "      <td>$\\mu_n = E[X^n]$</td>\n",
       "      <td>../data/handwritten/test/105_em_71.png</td>\n",
       "    </tr>\n",
       "    <tr>\n",
       "      <th>...</th>\n",
       "      <td>...</td>\n",
       "      <td>...</td>\n",
       "    </tr>\n",
       "    <tr>\n",
       "      <th>666</th>\n",
       "      <td>$S^{4m+1}$</td>\n",
       "      <td>../data/handwritten/test/105_em_80.png</td>\n",
       "    </tr>\n",
       "    <tr>\n",
       "      <th>667</th>\n",
       "      <td>$ \\phi ^ {3} + 3 \\phi ^ {2} + 18 \\phi + 5 + 12 $</td>\n",
       "      <td>../data/handwritten/test/rit_42190_2.png</td>\n",
       "    </tr>\n",
       "    <tr>\n",
       "      <th>668</th>\n",
       "      <td>$a_2 = \\frac{P[x_0, x_1] - P[x_1, x_2]}{x0 - x...</td>\n",
       "      <td>../data/handwritten/test/104_em_56.png</td>\n",
       "    </tr>\n",
       "    <tr>\n",
       "      <th>669</th>\n",
       "      <td>$\\frac{P}{640}$</td>\n",
       "      <td>../data/handwritten/test/121_em_318.png</td>\n",
       "    </tr>\n",
       "    <tr>\n",
       "      <th>670</th>\n",
       "      <td>$ \\int _ {2} ^ {5} x ^ {2} d x $</td>\n",
       "      <td>../data/handwritten/test/rit_42180_2.png</td>\n",
       "    </tr>\n",
       "  </tbody>\n",
       "</table>\n",
       "<p>671 rows × 2 columns</p>\n",
       "</div>"
      ],
      "text/plain": [
       "                                               formula  \\\n",
       "0                                      $r_2 - r_1 = R$   \n",
       "1                                $G_u = 2 M_{u v} M_v$   \n",
       "2                 $p_A = u + c [L + \\frac{1}{3}(a-b)]$   \n",
       "3                                          $M N = N M$   \n",
       "4                                     $\\mu_n = E[X^n]$   \n",
       "..                                                 ...   \n",
       "666                                         $S^{4m+1}$   \n",
       "667   $ \\phi ^ {3} + 3 \\phi ^ {2} + 18 \\phi + 5 + 12 $   \n",
       "668  $a_2 = \\frac{P[x_0, x_1] - P[x_1, x_2]}{x0 - x...   \n",
       "669                                    $\\frac{P}{640}$   \n",
       "670                   $ \\int _ {2} ^ {5} x ^ {2} d x $   \n",
       "\n",
       "                                        image  \n",
       "0     ../data/handwritten/test/126_em_481.png  \n",
       "1     ../data/handwritten/test/125_em_428.png  \n",
       "2     ../data/handwritten/test/120_em_293.png  \n",
       "3     ../data/handwritten/test/123_em_362.png  \n",
       "4      ../data/handwritten/test/105_em_71.png  \n",
       "..                                        ...  \n",
       "666    ../data/handwritten/test/105_em_80.png  \n",
       "667  ../data/handwritten/test/rit_42190_2.png  \n",
       "668    ../data/handwritten/test/104_em_56.png  \n",
       "669   ../data/handwritten/test/121_em_318.png  \n",
       "670  ../data/handwritten/test/rit_42180_2.png  \n",
       "\n",
       "[671 rows x 2 columns]"
      ]
     },
     "execution_count": 14,
     "metadata": {},
     "output_type": "execute_result"
    }
   ],
   "source": [
    "PATH_TO_DATA = '../data/'\n",
    "PATH_TO_HANDWRITTEN = PATH_TO_DATA + 'handwritten/'\n",
    "#train_handwritten_df = convert_dir(PATH_TO_HANDWRITTEN + 'train', PATH_TO_HANDWRITTEN + \"train\")\n",
    "#train_handwritten_df.to_csv(PATH_TO_DATA + 'train_handwritten.csv', index=False)\n",
    "#val_handwritten_df = convert_dir(PATH_TO_HANDWRITTEN + 'test', PATH_TO_HANDWRITTEN + \"test\")\n",
    "#val_handwritten_df.to_csv(PATH_TO_DATA + 'val_handwritten.csv', index=False)\n",
    "\n",
    "train_handwritten_df = pd.read_csv(PATH_TO_DATA + 'train_handwritten.csv')\n",
    "val_handwritten_df = pd.read_csv(PATH_TO_DATA + 'val_handwritten.csv')\n",
    "val_handwritten_df"
   ]
  },
  {
   "cell_type": "code",
   "execution_count": 15,
   "metadata": {},
   "outputs": [
    {
     "name": "stdout",
     "output_type": "stream",
     "text": [
      "train len before 75275\n",
      "train length after 84111\n"
     ]
    },
    {
     "data": {
      "text/html": [
       "<div>\n",
       "<style scoped>\n",
       "    .dataframe tbody tr th:only-of-type {\n",
       "        vertical-align: middle;\n",
       "    }\n",
       "\n",
       "    .dataframe tbody tr th {\n",
       "        vertical-align: top;\n",
       "    }\n",
       "\n",
       "    .dataframe thead th {\n",
       "        text-align: right;\n",
       "    }\n",
       "</style>\n",
       "<table border=\"1\" class=\"dataframe\">\n",
       "  <thead>\n",
       "    <tr style=\"text-align: right;\">\n",
       "      <th></th>\n",
       "      <th>formula</th>\n",
       "      <th>image</th>\n",
       "    </tr>\n",
       "  </thead>\n",
       "  <tbody>\n",
       "    <tr>\n",
       "      <th>0</th>\n",
       "      <td>\\widetilde \\gamma _ { \\mathrm { h o p f } } \\s...</td>\n",
       "      <td>../data/images/66667cee5b.png</td>\n",
       "    </tr>\n",
       "    <tr>\n",
       "      <th>1</th>\n",
       "      <td>( { \\cal L } _ { a } g ) _ { i j } = 0 , \\ \\ \\...</td>\n",
       "      <td>../data/images/1cbb05a562.png</td>\n",
       "    </tr>\n",
       "    <tr>\n",
       "      <th>2</th>\n",
       "      <td>S _ { s t a t } = 2 \\pi \\sqrt { N _ { 5 } ^ { ...</td>\n",
       "      <td>../data/images/ed164cc822.png</td>\n",
       "    </tr>\n",
       "    <tr>\n",
       "      <th>3</th>\n",
       "      <td>\\hat { N } _ { 3 } = \\sum \\sp f _ { j = 1 } a ...</td>\n",
       "      <td>../data/images/e265f9dc6b.png</td>\n",
       "    </tr>\n",
       "    <tr>\n",
       "      <th>4</th>\n",
       "      <td>\\, ^ { * } d \\, ^ { * } H = \\kappa \\, ^ { * } ...</td>\n",
       "      <td>../data/images/242a58bc3a.png</td>\n",
       "    </tr>\n",
       "    <tr>\n",
       "      <th>...</th>\n",
       "      <td>...</td>\n",
       "      <td>...</td>\n",
       "    </tr>\n",
       "    <tr>\n",
       "      <th>8831</th>\n",
       "      <td>\\frac { x_1 } { \\frac { x_2 } { \\frac { x_3 }...</td>\n",
       "      <td>../data/handwritten/train/200923-1556-78.png</td>\n",
       "    </tr>\n",
       "    <tr>\n",
       "      <th>8832</th>\n",
       "      <td>$y = \\frac{x\\prime\\sin\\theta+y\\prime\\sin(w\\pri...</td>\n",
       "      <td>../data/handwritten/train/92_edwin.png</td>\n",
       "    </tr>\n",
       "    <tr>\n",
       "      <th>8833</th>\n",
       "      <td>$(103 / (18 + 134)) + 109 \\leq 110$</td>\n",
       "      <td>../data/handwritten/train/formulaire014-equati...</td>\n",
       "    </tr>\n",
       "    <tr>\n",
       "      <th>8834</th>\n",
       "      <td>\\sin^{2} \\theta + \\cos^{2} \\theta = 1</td>\n",
       "      <td>../data/handwritten/train/TrainData1_0_sub_9.png</td>\n",
       "    </tr>\n",
       "    <tr>\n",
       "      <th>8835</th>\n",
       "      <td>$v ^{(0)}$</td>\n",
       "      <td>../data/handwritten/train/formulaire028-equati...</td>\n",
       "    </tr>\n",
       "  </tbody>\n",
       "</table>\n",
       "<p>84111 rows × 2 columns</p>\n",
       "</div>"
      ],
      "text/plain": [
       "                                                formula  \\\n",
       "0     \\widetilde \\gamma _ { \\mathrm { h o p f } } \\s...   \n",
       "1     ( { \\cal L } _ { a } g ) _ { i j } = 0 , \\ \\ \\...   \n",
       "2     S _ { s t a t } = 2 \\pi \\sqrt { N _ { 5 } ^ { ...   \n",
       "3     \\hat { N } _ { 3 } = \\sum \\sp f _ { j = 1 } a ...   \n",
       "4     \\, ^ { * } d \\, ^ { * } H = \\kappa \\, ^ { * } ...   \n",
       "...                                                 ...   \n",
       "8831   \\frac { x_1 } { \\frac { x_2 } { \\frac { x_3 }...   \n",
       "8832  $y = \\frac{x\\prime\\sin\\theta+y\\prime\\sin(w\\pri...   \n",
       "8833                $(103 / (18 + 134)) + 109 \\leq 110$   \n",
       "8834              \\sin^{2} \\theta + \\cos^{2} \\theta = 1   \n",
       "8835                                         $v ^{(0)}$   \n",
       "\n",
       "                                                  image  \n",
       "0                         ../data/images/66667cee5b.png  \n",
       "1                         ../data/images/1cbb05a562.png  \n",
       "2                         ../data/images/ed164cc822.png  \n",
       "3                         ../data/images/e265f9dc6b.png  \n",
       "4                         ../data/images/242a58bc3a.png  \n",
       "...                                                 ...  \n",
       "8831       ../data/handwritten/train/200923-1556-78.png  \n",
       "8832             ../data/handwritten/train/92_edwin.png  \n",
       "8833  ../data/handwritten/train/formulaire014-equati...  \n",
       "8834   ../data/handwritten/train/TrainData1_0_sub_9.png  \n",
       "8835  ../data/handwritten/train/formulaire028-equati...  \n",
       "\n",
       "[84111 rows x 2 columns]"
      ]
     },
     "execution_count": 15,
     "metadata": {},
     "output_type": "execute_result"
    }
   ],
   "source": [
    "\n",
    "def fix_path(path):\n",
    "    return PATH_TO_DATA + \"images/\" + path\n",
    "\n",
    "train_df = pd.read_csv(PATH_TO_DATA + 'im2latex_train.csv')\n",
    "val_df = pd.read_csv(PATH_TO_DATA + 'im2latex_validate.csv')\n",
    "test_df = pd.read_csv(PATH_TO_DATA + 'im2latex_test.csv')\n",
    "\n",
    "\n",
    "dataframes = [train_df, val_df, test_df]\n",
    "\n",
    "for df in dataframes:\n",
    "    df['image'] = df['image'].map(lambda x: fix_path(x))\n",
    "\n",
    "print(f'train len before {len(train_df)}')\n",
    "\n",
    "train_df = pd.concat([train_df, train_handwritten_df])\n",
    "val_df = pd.concat([val_df, val_handwritten_df])\n",
    "\n",
    "print(f'train length after {len(train_df)}')\n",
    "\n",
    "train_df"
   ]
  },
  {
   "cell_type": "code",
   "execution_count": 17,
   "metadata": {},
   "outputs": [
    {
     "data": {
      "text/plain": [
       "'\\\\widetilde \\\\gamma _ { \\\\mathrm { h o p f } } \\\\simeq \\\\sum _ { n > 0 } \\\\widetilde { G } _ { n } { \\\\frac { ( - a ) ^ { n } } { 2 ^ { 2 n - 1 } } }'"
      ]
     },
     "execution_count": 17,
     "metadata": {},
     "output_type": "execute_result"
    }
   ],
   "source": [
    "a = train_df['formula'].iloc[0]\n"
   ]
  },
  {
   "cell_type": "code",
   "execution_count": 6,
   "metadata": {},
   "outputs": [],
   "source": [
    "train_equations = train_df['formula']\n",
    "train_equations.to_csv('../data/train_equations.txt', index=False, header=False)"
   ]
  },
  {
   "cell_type": "code",
   "execution_count": null,
   "metadata": {},
   "outputs": [],
   "source": [
    "def generate_tokenizer(equations, output, vocab_size):\n",
    "    from tokenizers import Tokenizer, pre_tokenizers\n",
    "    from tokenizers.models import BPE\n",
    "    from tokenizers.trainers import BpeTrainer\n",
    "    tokenizer = Tokenizer(BPE())\n",
    "    tokenizer.pre_tokenizer = pre_tokenizers.ByteLevel(add_prefix_space=False)\n",
    "    trainer = BpeTrainer(special_tokens=[\"[PAD]\", \"[BOS]\", \"[EOS]\"], vocab_size=vocab_size, show_progress=True)\n",
    "    tokenizer.train(equations, trainer)\n",
    "    tokenizer.save(path=output, pretty=False)\n",
    "\n",
    "generate_tokenizer('../data/tokenizer.json', 8000)\n",
    "\n"
   ]
  },
  {
   "cell_type": "code",
   "execution_count": 4,
   "metadata": {},
   "outputs": [],
   "source": [
    "class ImagesDataset(Dataset):\n",
    "    def __init__(self, image_paths, formulas, transform=None):\n",
    "        self.image_paths = image_paths\n",
    "        self.transform = transform\n",
    "        self.formulas = formulas\n",
    "\n",
    "    def __len__(self):\n",
    "        return len(self.image_paths)\n",
    "\n",
    "    def __getitem__(self, index):\n",
    "        image_path = self.image_paths[index]\n",
    "        image = Image.open(image_path)\n",
    "        formula = self.formulas[index]\n",
    "\n",
    "        if self.transform:\n",
    "            image = self.transform(image)\n",
    "\n",
    "        return image, formula\n",
    "\n",
    "\n",
    "transform = transforms.Compose([\n",
    "    transforms.Resize((224, 600)),  # Resize to a specific size\n",
    "    transforms.ToTensor(),           # Convert to tensor\n",
    "])"
   ]
  },
  {
   "cell_type": "code",
   "execution_count": 5,
   "metadata": {},
   "outputs": [],
   "source": [
    "# HYPERPARAMETERS\n",
    "# -------------------------------------------------\n",
    "BATCH_SIZE = 32\n",
    "# -------------------------------------------------\n",
    "\n",
    "train_dataset = ImagesDataset(train_df['image'], train_df['formula'], transform=transform)\n",
    "val_dataset = ImagesDataset(val_df['image'], val_df['formula'], transform=transform)\n",
    "test_dataset = ImagesDataset(test_df['image'], test_df['formula'], transform=transform)\n",
    "\n",
    "train_dataloader = DataLoader(train_dataset, batch_size=BATCH_SIZE, shuffle=True)\n",
    "val_dataloader = DataLoader(val_dataset, batch_size=BATCH_SIZE, shuffle=True)\n",
    "test_dataloader = DataLoader(test_dataset, batch_size=BATCH_SIZE, shuffle=True)"
   ]
  },
  {
   "cell_type": "code",
   "execution_count": 6,
   "metadata": {},
   "outputs": [
    {
     "data": {
      "text/plain": [
       "'C = [ n _ { 0 } ] = \\\\frac { 1 } { \\\\operatorname { s i n } ( \\\\frac { 2 \\\\pi } { s + 1 } ) }'"
      ]
     },
     "execution_count": 6,
     "metadata": {},
     "output_type": "execute_result"
    },
    {
     "data": {
      "image/png": "[encoded data removed]",
      "text/plain": [
       "<Figure size 432x288 with 1 Axes>"
      ]
     },
     "metadata": {
      "needs_background": "light"
     },
     "output_type": "display_data"
    }
   ],
   "source": [
    "im, label = next(iter(train_dataloader))\n",
    "\n",
    "plt.imshow(im[0][0], cmap='gray')\n",
    "label[0]"
   ]
  },
  {
   "cell_type": "code",
   "execution_count": null,
   "metadata": {},
   "outputs": [],
   "source": []
  }
 ],
 "metadata": {
  "kernelspec": {
   "display_name": "pytorch",
   "language": "python",
   "name": "pytorch"
  },
  "language_info": {
   "codemirror_mode": {
    "name": "ipython",
    "version": 3
   },
   "file_extension": ".py",
   "mimetype": "text/x-python",
   "name": "python",
   "nbconvert_exporter": "python",
   "pygments_lexer": "ipython3",
   "version": "3.11.0"
  },
  "orig_nbformat": 4
 },
 "nbformat": 4,
 "nbformat_minor": 2
}
